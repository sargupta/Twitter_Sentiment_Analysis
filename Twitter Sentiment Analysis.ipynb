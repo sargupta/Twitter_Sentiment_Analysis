{
 "cells": [
  {
   "cell_type": "code",
   "execution_count": 11,
   "metadata": {
    "collapsed": true
   },
   "outputs": [],
   "source": [
    "import sys\n",
    "stdout = sys.stdout\n",
    "reload(sys)\n",
    "sys.setdefaultencoding('utf-8') \n",
    "#Changing the default encoding directs the output to the console, this sets it back to the jupyter notebook.\n",
    "\n",
    "sys.stdout = stdout  \n",
    "#set sys.stdout = stdout, which redirects the output back to the jupyter notebook"
   ]
  },
  {
   "cell_type": "code",
   "execution_count": 12,
   "metadata": {
    "collapsed": false
   },
   "outputs": [],
   "source": [
    "#Import the tweepy package for accessing Twitter APIs in Python\n",
    "import tweepy"
   ]
  },
  {
   "cell_type": "code",
   "execution_count": 13,
   "metadata": {
    "collapsed": false
   },
   "outputs": [],
   "source": [
    "#Import textblob package for sentiment anaysis of each tweet fetched from the API\n",
    "from textblob import TextBlob"
   ]
  },
  {
   "cell_type": "code",
   "execution_count": 14,
   "metadata": {
    "collapsed": true
   },
   "outputs": [],
   "source": [
    "#Import the csv package for storing the tweets in csv file\n",
    "import csv\n"
   ]
  },
  {
   "cell_type": "code",
   "execution_count": 15,
   "metadata": {
    "collapsed": true
   },
   "outputs": [],
   "source": [
    "#API Keys required for supporting the usage of the Twitter APIs\n",
    "#Access and Consumer keys and secret for authenticating this script to work with the Twitter API\n",
    "consumer_key = 'XXXX'\n",
    "consumer_secret = 'XXXX'\n",
    "\n",
    "access_token = 'XXXX'\n",
    "access_token_secret = 'XXXX'\n"
   ]
  },
  {
   "cell_type": "code",
   "execution_count": 16,
   "metadata": {
    "collapsed": true
   },
   "outputs": [],
   "source": [
    "#Authenticating with Twitter for using its API provided he above keys\n",
    "auth = tweepy.OAuthHandler(consumer_key, consumer_secret)\n",
    "auth.set_access_token(access_token, access_token_secret)"
   ]
  },
  {
   "cell_type": "code",
   "execution_count": 17,
   "metadata": {
    "collapsed": false
   },
   "outputs": [
    {
     "name": "stdout",
     "output_type": "stream",
     "text": [
      "Successfull Authentication\n"
     ]
    }
   ],
   "source": [
    "#API variable for communicating our actions to the Twitter APIs\n",
    "api = tweepy.API(auth)\n",
    "print('Successfull Authentication')"
   ]
  },
  {
   "cell_type": "code",
   "execution_count": 18,
   "metadata": {
    "collapsed": false
   },
   "outputs": [],
   "source": [
    "public_tweets = api.search('DonaldTrumph', count = 20)"
   ]
  },
  {
   "cell_type": "code",
   "execution_count": null,
   "metadata": {
    "collapsed": true
   },
   "outputs": [],
   "source": []
  },
  {
   "cell_type": "code",
   "execution_count": 32,
   "metadata": {
    "collapsed": false
   },
   "outputs": [
    {
     "name": "stdout",
     "output_type": "stream",
     "text": [
      "Sentiment(polarity=0.0, subjectivity=0.0)\n",
      "Sentiment(polarity=0.0, subjectivity=0.0)\n",
      "Sentiment(polarity=0.0, subjectivity=0.0)\n",
      "Sentiment(polarity=0.0, subjectivity=0.0)\n",
      "Sentiment(polarity=0.0, subjectivity=0.0)\n",
      "Sentiment(polarity=0.13636363636363635, subjectivity=0.45454545454545453)\n",
      "Sentiment(polarity=-0.15555555555555559, subjectivity=0.2888888888888889)\n",
      "Sentiment(polarity=0.3125, subjectivity=0.9)\n",
      "Sentiment(polarity=0.0, subjectivity=0.0)\n",
      "Sentiment(polarity=0.0, subjectivity=0.0)\n",
      "Sentiment(polarity=-0.5, subjectivity=0.9)\n",
      "Sentiment(polarity=-0.7999999999999999, subjectivity=1.0)\n",
      "Sentiment(polarity=0.0, subjectivity=0.0)\n",
      "Sentiment(polarity=0.0, subjectivity=0.0)\n",
      "Sentiment(polarity=0.0, subjectivity=0.0)\n",
      "Sentiment(polarity=-0.1, subjectivity=0.4)\n"
     ]
    }
   ],
   "source": [
    "Tweet_Details = []\n",
    "for tweet in public_tweets:\n",
    "    tweet_text = TextBlob(tweet.text)\n",
    "    tweet_user = tweet.user.name\n",
    "       \n",
    "    polarity = TextBlob(tweet.text).sentiment.polarity\n",
    "    #Polarity_Sign = ('Positive' if polarity > 0 else 'Negative' if polarity < 0 else 'Neg')      \n",
    "    subjectivity = TextBlob(tweet.text).sentiment.subjectivity\n",
    "    print(tweet_text.sentiment)\n",
    "    \n",
    "    Tweet_Details.append([tweet_text, tweet_user, polarity, subjectivity])\n",
    "    #tweet_writer.writerow([tweet_text, tweet_user, polarity]) \n"
   ]
  },
  {
   "cell_type": "code",
   "execution_count": null,
   "metadata": {
    "collapsed": false
   },
   "outputs": [],
   "source": []
  },
  {
   "cell_type": "code",
   "execution_count": 30,
   "metadata": {
    "code_folding": [],
    "collapsed": false,
    "hide_input": false
   },
   "outputs": [
    {
     "name": "stdout",
     "output_type": "stream",
     "text": [
      "1. [TextBlob(\"@Pontifex @DonaldTrumph_ Funny😂😂😂\"), u'Enam Lincoln Hoggar', 0.0, 0.0]\n",
      "2. [TextBlob(\"அமெரிக்க அரசின் முக்கிய பதவிகளில் இந்தியர்கள் !\n",
      "\n",
      "அதிபர் டொனால்டு டிரம்ப் அமெரிக்காவின் மூன்று முக்கிய   பதவிகளில் அ… https://t.co/QjmqpTUPRL\"), u'Kumudam', 0.0, 0.0]\n",
      "3. [TextBlob(\"@DonaldTrumph_  what if Mexico decides to dig a tunnel?🤷🏽‍♀️ Are u thinking of building a floor to go with it too?😂… https://t.co/Ir248e6weo\"), u'JanJan_OhwTwo', 0.0, 0.0]\n",
      "4. [TextBlob(\"Yes!!!! @DonaldTrumph_ https://t.co/ZghHSi4wAS\"), u'hokiechick4trump\\u2b50\\ufe0f\\u2b50\\ufe0f\\u2b50\\ufe0f', 0.0, 0.0]\n",
      "5. [TextBlob(\"Trump Turns the White House into White Castle 🍔🍟\n",
      "Via: @abcnews \n",
      "#DonaldTrumpMemes #donaldtrump2016… https://t.co/Wp0nPFvebs\"), u'1SupremeWorld\\U0001f30e', 0.0, 0.0]\n",
      "6. [TextBlob(\"@POTUS @DonaldTrumph_ @IvankaTrump \n",
      "A new caravan of Honduran migrants has begun to form today in the north of Hond… https://t.co/3zOOhQVHGs\"), u'REALYTIS', 0.13636363636363635, 0.45454545454545453]\n",
      "7. [TextBlob(\"Nigga just knock on my door ask for a 🚬 and a rubber @DonaldTrumph_ end this shut down asap\"), u'PDOT MDL KNODAT', -0.15555555555555559, 0.2888888888888889]\n",
      "8. [TextBlob(\"@bubbaprog THIS is absolutely disgraceful! @DonaldTrumph_ ....You don’t celebrate a “National Championship Team” #CLEMSON with JUNK FOOD!\"), u'RRhae', 0.3125, 0.9]\n",
      "9. [TextBlob(\"😉President Trump mocks Elizabeth Warren's 'beer catastrophe'.😍\n",
      "#donaldtrump #DonaldTrumpMemes #donaldtrump2016… https://t.co/dhup54aYYg\"), u'April J. Brown', 0.0, 0.0]\n",
      "10. [TextBlob(\"@POTUS @realDonaldTrump @DonaldTrumph_ @IvankaTrump Mr. President, in the face of the democrat refusal, I ask you t… https://t.co/GQFH71jq2Z\"), u'REALYTIS', 0.0, 0.0]\n",
      "11. [TextBlob(\"@DonaldTrumph_ wrong\"), u'Beeemerbones', -0.5, 0.9]\n",
      "12. [TextBlob(\"@realDonaldTrump @DonaldTrumph_ it was their money stupid.\"), u'Beeemerbones', -0.7999999999999999, 1.0]\n",
      "13. [TextBlob(\"@ShinobiNinja #donaldtrump #DonaldTrumpMemes #donaldtrump2016 #donaldtrumpsucks #DonaldTrumpMeme\n",
      " #donaldtrumpjr… https://t.co/ftc073pvJ2\"), u'April J. Brown', 0.0, 0.0]\n",
      "14. [TextBlob(\"@DonaldTrumph_  con pochi milioni di dollari spesi oģgi per stipendio americani innocenti shon dawn \n",
      " passerai per… https://t.co/k6szOeem2F\"), u'Nando Buciardo', 0.0, 0.0]\n",
      "15. [TextBlob(\"@DonaldTrumph_  prima di essere presidente sei anche un grande uomo d'affari uguale Amazon. Se paghi tuoi dollari p… https://t.co/1suNUg4dg1\"), u'Nando Buciardo', 0.0, 0.0]\n",
      "16. [TextBlob(\"@DonaldTrumph_welfare Escalade &amp; Jaguars loading honey buns by cart load using Welfare Cards, look like WIDE LOADS on their butts\"), u'Alan Grier', -0.1, 0.4]\n"
     ]
    }
   ],
   "source": [
    "for index, value in enumerate(Tweet_Details,1):\n",
    "    Search_Result = ('{}. {}'.format(index, value))\n",
    "    print(Search_Result)"
   ]
  },
  {
   "cell_type": "code",
   "execution_count": 31,
   "metadata": {
    "collapsed": false,
    "hide_input": false
   },
   "outputs": [],
   "source": [
    "# convert list of list to list first.\n",
    "from itertools import chain\n",
    "row = list(chain.from_iterable(Tweet_Details))"
   ]
  },
  {
   "cell_type": "code",
   "execution_count": 28,
   "metadata": {
    "collapsed": false
   },
   "outputs": [],
   "source": [
    "with open('dataset.csv', mode='w') as tweet_files:\n",
    "    tweet_writer = csv.writer(tweet_files, delimiter = ',', quotechar = '\"', quoting = csv.QUOTE_MINIMAL)\n",
    "    tweet_writer.writerow(row)"
   ]
  },
  {
   "cell_type": "code",
   "execution_count": 29,
   "metadata": {
    "collapsed": false
   },
   "outputs": [
    {
     "data": {
      "text/html": [
       "<div>\n",
       "<table border=\"1\" class=\"dataframe\">\n",
       "  <thead>\n",
       "    <tr style=\"text-align: right;\">\n",
       "      <th></th>\n",
       "    </tr>\n",
       "  </thead>\n",
       "  <tbody>\n",
       "    <tr>\n",
       "      <th>@Pontifex @DonaldTrumph_ Funny😂😂😂</th>\n",
       "    </tr>\n",
       "    <tr>\n",
       "      <th>Enam Lincoln Hoggar</th>\n",
       "    </tr>\n",
       "    <tr>\n",
       "      <th>0.0</th>\n",
       "    </tr>\n",
       "    <tr>\n",
       "      <th>0.0.1</th>\n",
       "    </tr>\n",
       "    <tr>\n",
       "      <th>அமெரிக்க அரசின் முக்கிய பதவிகளில் இந்தியர்கள் !\\r\\n\\r\\nஅதிபர் டொனால்டு டிரம்ப் அமெரிக்காவின் மூன்று முக்கிய   பதவிகளில் அ… https://t.co/QjmqpTUPRL</th>\n",
       "    </tr>\n",
       "    <tr>\n",
       "      <th>Kumudam</th>\n",
       "    </tr>\n",
       "    <tr>\n",
       "      <th>0.0.2</th>\n",
       "    </tr>\n",
       "    <tr>\n",
       "      <th>0.0.3</th>\n",
       "    </tr>\n",
       "    <tr>\n",
       "      <th>@DonaldTrumph_  what if Mexico decides to dig a tunnel?🤷🏽‍♀️ Are u thinking of building a floor to go with it too?😂… https://t.co/Ir248e6weo</th>\n",
       "    </tr>\n",
       "    <tr>\n",
       "      <th>JanJan_OhwTwo</th>\n",
       "    </tr>\n",
       "    <tr>\n",
       "      <th>0.0.4</th>\n",
       "    </tr>\n",
       "    <tr>\n",
       "      <th>0.0.5</th>\n",
       "    </tr>\n",
       "    <tr>\n",
       "      <th>Yes!!!! @DonaldTrumph_ https://t.co/ZghHSi4wAS</th>\n",
       "    </tr>\n",
       "    <tr>\n",
       "      <th>hokiechick4trump⭐️⭐️⭐️</th>\n",
       "    </tr>\n",
       "    <tr>\n",
       "      <th>0.0.6</th>\n",
       "    </tr>\n",
       "    <tr>\n",
       "      <th>0.0.7</th>\n",
       "    </tr>\n",
       "    <tr>\n",
       "      <th>Trump Turns the White House into White Castle 🍔🍟\\r\\nVia: @abcnews \\r\\n#DonaldTrumpMemes #donaldtrump2016… https://t.co/Wp0nPFvebs</th>\n",
       "    </tr>\n",
       "    <tr>\n",
       "      <th>1SupremeWorld🌎</th>\n",
       "    </tr>\n",
       "    <tr>\n",
       "      <th>0.0.8</th>\n",
       "    </tr>\n",
       "    <tr>\n",
       "      <th>0.0.9</th>\n",
       "    </tr>\n",
       "    <tr>\n",
       "      <th>@POTUS @DonaldTrumph_ @IvankaTrump \\r\\nA new caravan of Honduran migrants has begun to form today in the north of Hond… https://t.co/3zOOhQVHGs</th>\n",
       "    </tr>\n",
       "    <tr>\n",
       "      <th>REALYTIS</th>\n",
       "    </tr>\n",
       "    <tr>\n",
       "      <th>0.13636363636363635</th>\n",
       "    </tr>\n",
       "    <tr>\n",
       "      <th>0.45454545454545453</th>\n",
       "    </tr>\n",
       "    <tr>\n",
       "      <th>Nigga just knock on my door ask for a 🚬 and a rubber @DonaldTrumph_ end this shut down asap</th>\n",
       "    </tr>\n",
       "    <tr>\n",
       "      <th>PDOT MDL KNODAT</th>\n",
       "    </tr>\n",
       "    <tr>\n",
       "      <th>-0.15555555555555559</th>\n",
       "    </tr>\n",
       "    <tr>\n",
       "      <th>0.2888888888888889</th>\n",
       "    </tr>\n",
       "    <tr>\n",
       "      <th>@bubbaprog THIS is absolutely disgraceful! @DonaldTrumph_ ....You don’t celebrate a “National Championship Team” #CLEMSON with JUNK FOOD!</th>\n",
       "    </tr>\n",
       "    <tr>\n",
       "      <th>RRhae</th>\n",
       "    </tr>\n",
       "    <tr>\n",
       "      <th>...</th>\n",
       "    </tr>\n",
       "    <tr>\n",
       "      <th>0.0.10</th>\n",
       "    </tr>\n",
       "    <tr>\n",
       "      <th>0.0.11</th>\n",
       "    </tr>\n",
       "    <tr>\n",
       "      <th>@POTUS @realDonaldTrump @DonaldTrumph_ @IvankaTrump Mr. President, in the face of the democrat refusal, I ask you t… https://t.co/GQFH71jq2Z</th>\n",
       "    </tr>\n",
       "    <tr>\n",
       "      <th>REALYTIS.1</th>\n",
       "    </tr>\n",
       "    <tr>\n",
       "      <th>0.0.12</th>\n",
       "    </tr>\n",
       "    <tr>\n",
       "      <th>0.0.13</th>\n",
       "    </tr>\n",
       "    <tr>\n",
       "      <th>@DonaldTrumph_ wrong</th>\n",
       "    </tr>\n",
       "    <tr>\n",
       "      <th>Beeemerbones</th>\n",
       "    </tr>\n",
       "    <tr>\n",
       "      <th>-0.5</th>\n",
       "    </tr>\n",
       "    <tr>\n",
       "      <th>0.9.1</th>\n",
       "    </tr>\n",
       "    <tr>\n",
       "      <th>@realDonaldTrump @DonaldTrumph_ it was their money stupid.</th>\n",
       "    </tr>\n",
       "    <tr>\n",
       "      <th>Beeemerbones.1</th>\n",
       "    </tr>\n",
       "    <tr>\n",
       "      <th>-0.7999999999999999</th>\n",
       "    </tr>\n",
       "    <tr>\n",
       "      <th>1.0</th>\n",
       "    </tr>\n",
       "    <tr>\n",
       "      <th>@ShinobiNinja #donaldtrump #DonaldTrumpMemes #donaldtrump2016 #donaldtrumpsucks #DonaldTrumpMeme\\r\\n #donaldtrumpjr… https://t.co/ftc073pvJ2</th>\n",
       "    </tr>\n",
       "    <tr>\n",
       "      <th>April J. Brown.1</th>\n",
       "    </tr>\n",
       "    <tr>\n",
       "      <th>0.0.14</th>\n",
       "    </tr>\n",
       "    <tr>\n",
       "      <th>0.0.15</th>\n",
       "    </tr>\n",
       "    <tr>\n",
       "      <th>@DonaldTrumph_  con pochi milioni di dollari spesi oģgi per stipendio americani innocenti shon dawn \\r\\n passerai per… https://t.co/k6szOeem2F</th>\n",
       "    </tr>\n",
       "    <tr>\n",
       "      <th>Nando Buciardo</th>\n",
       "    </tr>\n",
       "    <tr>\n",
       "      <th>0.0.16</th>\n",
       "    </tr>\n",
       "    <tr>\n",
       "      <th>0.0.17</th>\n",
       "    </tr>\n",
       "    <tr>\n",
       "      <th>@DonaldTrumph_  prima di essere presidente sei anche un grande uomo d'affari uguale Amazon. Se paghi tuoi dollari p… https://t.co/1suNUg4dg1</th>\n",
       "    </tr>\n",
       "    <tr>\n",
       "      <th>Nando Buciardo.1</th>\n",
       "    </tr>\n",
       "    <tr>\n",
       "      <th>0.0.18</th>\n",
       "    </tr>\n",
       "    <tr>\n",
       "      <th>0.0.19</th>\n",
       "    </tr>\n",
       "    <tr>\n",
       "      <th>@DonaldTrumph_welfare Escalade &amp;amp; Jaguars loading honey buns by cart load using Welfare Cards, look like WIDE LOADS on their butts</th>\n",
       "    </tr>\n",
       "    <tr>\n",
       "      <th>Alan Grier</th>\n",
       "    </tr>\n",
       "    <tr>\n",
       "      <th>-0.1</th>\n",
       "    </tr>\n",
       "    <tr>\n",
       "      <th>0.4</th>\n",
       "    </tr>\n",
       "  </tbody>\n",
       "</table>\n",
       "<p>64 rows × 0 columns</p>\n",
       "</div>"
      ],
      "text/plain": [
       "Empty DataFrame\n",
       "Columns: []\n",
       "Index: [@Pontifex @DonaldTrumph_ Funny😂😂😂, Enam Lincoln Hoggar, 0.0, 0.0.1, அமெரிக்க அரசின் முக்கிய பதவிகளில் இந்தியர்கள் !\n",
       "\n",
       "அதிபர் டொனால்டு டிரம்ப் அமெரிக்காவின் மூன்று முக்கிய   பதவிகளில் அ… https://t.co/QjmqpTUPRL, Kumudam, 0.0.2, 0.0.3, @DonaldTrumph_  what if Mexico decides to dig a tunnel?🤷🏽‍♀️ Are u thinking of building a floor to go with it too?😂… https://t.co/Ir248e6weo, JanJan_OhwTwo, 0.0.4, 0.0.5, Yes!!!! @DonaldTrumph_ https://t.co/ZghHSi4wAS, hokiechick4trump⭐️⭐️⭐️, 0.0.6, 0.0.7, Trump Turns the White House into White Castle 🍔🍟\n",
       "Via: @abcnews \n",
       "#DonaldTrumpMemes #donaldtrump2016… https://t.co/Wp0nPFvebs, 1SupremeWorld🌎, 0.0.8, 0.0.9, @POTUS @DonaldTrumph_ @IvankaTrump \n",
       "A new caravan of Honduran migrants has begun to form today in the north of Hond… https://t.co/3zOOhQVHGs, REALYTIS, 0.13636363636363635, 0.45454545454545453, Nigga just knock on my door ask for a 🚬 and a rubber @DonaldTrumph_ end this shut down asap, PDOT MDL KNODAT, -0.15555555555555559, 0.2888888888888889, @bubbaprog THIS is absolutely disgraceful! @DonaldTrumph_ ....You don’t celebrate a “National Championship Team” #CLEMSON with JUNK FOOD!, RRhae, 0.3125, 0.9, 😉President Trump mocks Elizabeth Warren's 'beer catastrophe'.😍\n",
       "#donaldtrump #DonaldTrumpMemes #donaldtrump2016… https://t.co/dhup54aYYg, April J. Brown, 0.0.10, 0.0.11, @POTUS @realDonaldTrump @DonaldTrumph_ @IvankaTrump Mr. President, in the face of the democrat refusal, I ask you t… https://t.co/GQFH71jq2Z, REALYTIS.1, 0.0.12, 0.0.13, @DonaldTrumph_ wrong, Beeemerbones, -0.5, 0.9.1, @realDonaldTrump @DonaldTrumph_ it was their money stupid., Beeemerbones.1, -0.7999999999999999, 1.0, @ShinobiNinja #donaldtrump #DonaldTrumpMemes #donaldtrump2016 #donaldtrumpsucks #DonaldTrumpMeme\n",
       " #donaldtrumpjr… https://t.co/ftc073pvJ2, April J. Brown.1, 0.0.14, 0.0.15, @DonaldTrumph_  con pochi milioni di dollari spesi oģgi per stipendio americani innocenti shon dawn \n",
       " passerai per… https://t.co/k6szOeem2F, Nando Buciardo, 0.0.16, 0.0.17, @DonaldTrumph_  prima di essere presidente sei anche un grande uomo d'affari uguale Amazon. Se paghi tuoi dollari p… https://t.co/1suNUg4dg1, Nando Buciardo.1, 0.0.18, 0.0.19, @DonaldTrumph_welfare Escalade &amp; Jaguars loading honey buns by cart load using Welfare Cards, look like WIDE LOADS on their butts, Alan Grier, -0.1, 0.4]\n",
       "\n",
       "[64 rows x 0 columns]"
      ]
     },
     "execution_count": 29,
     "metadata": {},
     "output_type": "execute_result"
    }
   ],
   "source": [
    "import pandas as pd\n",
    "pd.read_csv('dataset.csv').transpose()"
   ]
  },
  {
   "cell_type": "code",
   "execution_count": null,
   "metadata": {
    "collapsed": true
   },
   "outputs": [],
   "source": []
  }
 ],
 "metadata": {
  "anaconda-cloud": {},
  "kernelspec": {
   "display_name": "Python [Root]",
   "language": "python",
   "name": "Python [Root]"
  },
  "language_info": {
   "codemirror_mode": {
    "name": "ipython",
    "version": 2
   },
   "file_extension": ".py",
   "mimetype": "text/x-python",
   "name": "python",
   "nbconvert_exporter": "python",
   "pygments_lexer": "ipython2",
   "version": "2.7.12"
  },
  "toc": {
   "base_numbering": 1,
   "nav_menu": {},
   "number_sections": true,
   "sideBar": true,
   "skip_h1_title": false,
   "title_cell": "Table of Contents",
   "title_sidebar": "Contents",
   "toc_cell": false,
   "toc_position": {},
   "toc_section_display": true,
   "toc_window_display": false
  }
 },
 "nbformat": 4,
 "nbformat_minor": 0
}
